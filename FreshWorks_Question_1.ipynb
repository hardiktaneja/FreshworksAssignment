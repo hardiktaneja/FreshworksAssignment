{
 "cells": [
  {
   "cell_type": "code",
   "execution_count": 97,
   "metadata": {
    "collapsed": true
   },
   "outputs": [],
   "source": [
    "# Importing Os - For getting paths in a directory and joining paths\n",
    "# Importing Json for reading and writing JSON\n",
    "import os\n",
    "import json"
   ]
  },
  {
   "cell_type": "code",
   "execution_count": 99,
   "metadata": {},
   "outputs": [
    {
     "name": "stdout",
     "output_type": "stream",
     "text": [
      "Enter Folder Path :/Users/hardiktaneja/Documents/json\n",
      "Enter Input File Base Name :data\n",
      "Enter Output File Base Name :merge\n",
      "Enter Max File Size :100000\n"
     ]
    }
   ],
   "source": [
    "# Taking all the Required Inputs\n",
    "folderPath =  input(\"Enter Folder Path :\")\n",
    "inputFileBaseName = input(\"Enter Input File Base Name :\")\n",
    "outputFileBaseName = input(\"Enter Output File Base Name :\")\n",
    "maxFileSize = input(\"Enter Max File Size :\")"
   ]
  },
  {
   "cell_type": "code",
   "execution_count": 100,
   "metadata": {},
   "outputs": [],
   "source": [
    "# Getting all files for given input Directory\n",
    "all_files = [file for file in os.listdir(folderPath) ]"
   ]
  },
  {
   "cell_type": "code",
   "execution_count": 101,
   "metadata": {},
   "outputs": [],
   "source": [
    "# One line Implemantation using list Comprehension to get all files with basePrefix Input Name\n",
    "# ====\n",
    "# filePaths = [os.path.join(folderPath,f) for f in os.listdir(folderPath) if f.startswith(inputFileBaseName) ]\n",
    "# ====\n",
    "\n",
    "\n",
    "# More Readable Code\n",
    "\n",
    "filePaths = []\n",
    "for file in os.listdir(folderPath):\n",
    "#     Check if FileName Starts with Input File Base Name\n",
    "    if(file.startswith(inputFileBaseName)):\n",
    "#         Make Json File Path if true and add to filePaths list\n",
    "        tempPath = os.path.join(folderPath,file)\n",
    "        filePaths.append(tempPath)"
   ]
  },
  {
   "cell_type": "code",
   "execution_count": 113,
   "metadata": {},
   "outputs": [],
   "source": [
    "# In the odd case where files are not sorted alphabetically\n",
    "filePaths.sort()"
   ]
  },
  {
   "cell_type": "code",
   "execution_count": 106,
   "metadata": {
    "collapsed": true
   },
   "outputs": [],
   "source": [
    "# Get First JSON File with which we will merge all other JSON Files\n",
    "# Its Called baseJSON\n",
    "file = open(file_paths[0] ,\"r\")\n",
    "rawFile = file.read()\n",
    "baseJson= json.loads(rawFile)\n",
    "file.close()"
   ]
  },
  {
   "cell_type": "code",
   "execution_count": 103,
   "metadata": {},
   "outputs": [],
   "source": [
    "# Loop over all the files in filePath List\n",
    "# Open Each file\n",
    "for counter,file in enumerate(filePaths):\n",
    "    if(counter == 0):\n",
    "        continue\n",
    "    file = open(file ,\"r\")\n",
    "    rawFile = file.read()\n",
    "#     Get the Current File\n",
    "    jsonFileCurrent= json.loads(rawFile)\n",
    "    \n",
    "#     Get List of All keys to make our Utility Genral to work on examples with multiple keys\n",
    "#      as explained in question PDF\n",
    "#     if key name is 'emplyoee' instead of 'striker'\n",
    "#     or if JSON contains multiple such key Lists\n",
    "    keyList = list(baseJson.keys())\n",
    "    \n",
    "#     Loop over all key Names and merge Key List of current file with list of base Json File\n",
    "    for key in keyList:\n",
    "           baseJson[key].extend(jsonFileCurrent[key])\n",
    "    \n",
    "    file.close()"
   ]
  },
  {
   "cell_type": "code",
   "execution_count": 104,
   "metadata": {
    "collapsed": true
   },
   "outputs": [],
   "source": [
    "# Name of output file\n",
    "outputFileBaseName = outputFileBaseName + \".json\""
   ]
  },
  {
   "cell_type": "code",
   "execution_count": 105,
   "metadata": {
    "collapsed": true
   },
   "outputs": [],
   "source": [
    "# Wrtie base Json to output file\n",
    "with open(os.path.join(folderPath,outputFileBaseName) , 'w', encoding='utf-8') as f:\n",
    "    json.dump(baseJson,f,indent=4)"
   ]
  }
 ],
 "metadata": {
  "kernelspec": {
   "display_name": "Python 3",
   "language": "python",
   "name": "python3"
  },
  "language_info": {
   "codemirror_mode": {
    "name": "ipython",
    "version": 3
   },
   "file_extension": ".py",
   "mimetype": "text/x-python",
   "name": "python",
   "nbconvert_exporter": "python",
   "pygments_lexer": "ipython3",
   "version": "3.6.3"
  }
 },
 "nbformat": 4,
 "nbformat_minor": 2
}
